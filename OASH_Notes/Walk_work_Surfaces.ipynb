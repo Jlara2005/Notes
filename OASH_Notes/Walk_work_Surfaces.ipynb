{
 "cells": [
  {
   "attachments": {},
   "cell_type": "markdown",
   "metadata": {},
   "source": [
    "# Walking/Working Surfaces"
   ]
  },
  {
   "attachments": {},
   "cell_type": "markdown",
   "metadata": {},
   "source": [
    "# Introduction\n",
    "\n",
    "## Key TakeAway\n",
    "\n",
    "-  anyone who work four feet or higher above the ground is at risk of falling\n",
    "-  They are required to use fall protections\n",
    "\n",
    "## Fun or important facts\n",
    "\n",
    "- Falling is a common cause of injuries\n",
    "- death by falling is quite big and it increasing (scary)"
   ]
  },
  {
   "attachments": {},
   "cell_type": "markdown",
   "metadata": {},
   "source": [
    "# Slip and Trip Hazards\n",
    "\n",
    "## Key TakeAway\n",
    "\n",
    "- Anything that can reduce friction between your foot on the ground counts as a slip hazard\n",
    "- Keep the workplace tidy to reduce the amount of trip or slip hazards\n",
    "- There are housekeeping policies that need to be follow and it include\n",
    "    - Contact infromation of the housekeeping department\n",
    "    - The location and use of cleaning supplies\n",
    "    - Storage containing the wet floor signs and barriers\n",
    "    - Cleaning time habits and locations\n",
    "    - multiple different cleaning methods for many different surfaces and areas\n",
    "- There are many way to clean floors\n",
    "    - constantly clean the floor with the mop\n",
    "    - have multiple absorbent mats like towels\n",
    "    - call the housekeeping department.\n",
    "- there are mat to help reduce slip hazard but if it not maintain than it does not help as much\n",
    "- when there a slip or trip hazard. clean it up right away\n",
    "- the passageways like hallways have to be 4 by 3 inches bigger than the biggest equipment so others can still have a walk path.\n",
    "\n",
    "\n",
    "## Fun or important facts\n",
    "\n",
    "- There are slip resistant foorwear it uses rubber to increase friction"
   ]
  },
  {
   "attachments": {},
   "cell_type": "markdown",
   "metadata": {},
   "source": [
    "# Employer Responsibilities\n",
    "\n",
    "## Key TakeAway\n",
    "\n",
    "- They are Responsible for work equipment and proper training to reduce fall hazards. \n",
    "- They also make sure that the ladder is in good condition.\n",
    "- they also can retain workers if they doing somthing dumb.\n",
    "- they also have to retrain them if new equipments shows up or need extra training\n",
    "- Training have to be in the language that the workers can understand\n",
    "- there are many step or ways to prevent fall hazard.\n",
    "    1. Have a full plan ahead of time\n",
    "    2. Have daily actions to reduce fall hazard.\n",
    "    3. Change task or schedule for better condition to reduce fall hazard\n",
    "    4. make sure the equipment is being used and in good shape to make OSHA Happy\n",
    "    5. fall hazard training\n",
    "    6. make sure you explain any possible fall hazard\n",
    "    7. do proper mesurements on ladder or rope system for a certain height\n",
    "- there are also many systems to reduce fall hazard including\n",
    "    - Guardrails\n",
    "    - safety net\n",
    "    - Personal Fall arrest. when a person fall the rope stop them before it hit the floor. No belts, OSHA hates that.\n",
    "    - harness/positioning system\n",
    "    - Travel Restraint(similer to a dog with it leash on the fence)\n",
    "    - Ladder Safety. puting the harness on the ladder (not very safety on loose ladders. still not very safty)\n",
    "- when working with any type of lifts. you still need to follow all the fall hazards saftey requiments by OSHA\n",
    "- ladder use on a stable ground and the top step is not use for stepping.\n",
    "## Fun or important facts\n",
    "\n",
    "- Wind is very very dangous and can cause a fall hazard. 28 mile per hour is the max limit requirement but it different for all lifts.\n",
    "- ladder steps are slip-resistant"
   ]
  },
  {
   "attachments": {},
   "cell_type": "markdown",
   "metadata": {},
   "source": [
    "# Ladders\n",
    "\n",
    "## Key TakeAway\n",
    "\n",
    "- Some companies or business must have fixed ladders. \n",
    "- if the fixed ladder is more than 24 feet than it must have ladder system or personal fall arrest system\n",
    "- if the ladder is less than 24 feet than it can have a cage around the ladder.\n",
    "- need training to climb a ladder.\n",
    "- portable ladders have to be 1 feet away from the wall for every four feet height. (16 feet height means the ladder have to be 4 feet away)\n",
    "- the ladder have to be three feet about the work area. (because you can't stand on the top step.)\n",
    "- tied the ladder fix points to more stablilty\n",
    "- always have one hand on the ladder when climbing (maintain at least three point of contact) (carry tools does not count)\n",
    "\n",
    "\n",
    "## Fun or important facts\n",
    "\n",
    "- they have around 2 years to install any fall protection to fix ladders. (if already exist)\n",
    "- they have twenty years to instal other possible fall protection to fix ladders that have a cage (if already exist)\n",
    "- new fix ladder must already have one of the fall protection"
   ]
  },
  {
   "attachments": {},
   "cell_type": "markdown",
   "metadata": {},
   "source": [
    "# Stairs and GaurdRails\n",
    "\n",
    "## Key TakeAway\n",
    "\n",
    "- Wall opening is a big hole that is 30 inches high and 18 inches wide\n",
    "- floor openings is smaller than wall opening. usally is 12 inches radius.\n",
    "- floor holes is similer to floor opening but it smaller and materials can fall through but not people.\n",
    "- Standard railing are railings that have three main parts. Post, top rail and mid rail. Usally 42 inches tall and place in any opened sided platform.\n",
    "- toeboard blocks opening on the wall or holes which is usally 4 inches high and Have to clear more than 1/4 inch of the floor.\n",
    "- toeboard have to be tough enough to support two people and sometimes holes just get gaurded by portable rails or workers.\n",
    "- GaurdRails Requirements\n",
    "    - 39 to 45 inches tall, support 200 pounds of force, have to be 1/4 inch thick (top rail)\n",
    "    - least 21 icnches tall, support 150 pounds of force (mid rail)\n",
    "    - ToeBoard along the barrier to keep the rails from falling \n",
    "    - Holes can't be 19 inches or more, have to be smooth for no cuts, Make sure the worker can easaly make contact. (general)\n",
    "    - rope or mesh have to be visible from 6 feet away, It have to cover top of the rail to the top of the work place (wire rope Guardrails)\n",
    "- climbing stairs requirement\n",
    "    - maintain 3 points of contact\n",
    "    - don't jump\n",
    "    - don't carry very heavy objects\n",
    "    - must have proper lighting\n",
    "    - must have a 7 feet height clearence (nothing above the stairs)\n",
    "    - must carry at least the minumum of 1000 pounds\n",
    "    - Have to be 22 inches wide and in the angle between 30 to 50 degrees\n",
    "    - handrails is only required to be install if the stairs have four or more steps\n",
    "\n",
    "\n",
    "## Fun or important facts\n",
    "\n",
    "- Employers have the choose to pick out a fall protection.\n",
    "- don't use stairs for storage."
   ]
  },
  {
   "attachments": {},
   "cell_type": "markdown",
   "metadata": {},
   "source": [
    "# Scaffolding\n",
    "\n",
    "## Key TakeAway\n",
    "\n",
    "- Scaffold standards are under 29 CFR part 1926, Subpart L (whatever that means)\n",
    "- there are many hazards with scaffold including\n",
    "    - Fall hazard\n",
    "    - falling objects\n",
    "    - implacement or bad quilty scaffolding\n",
    "    - getting very close to the power lines\n",
    "- You must wear fall protections and gaurdrails when getting on scaffolding. some scaffolding only need one fall protection.\n",
    "- lifeline (fall protection connect to a pipe) must support 5,000 or more pounds.\n",
    "\n",
    "## Fun or important facts\n",
    "\n",
    "- Competent person know how to use and inspect scaffolding safely and quaflied person know how to build one."
   ]
  }
 ],
 "metadata": {
  "kernelspec": {
   "display_name": "Python 3.9.1 64-bit",
   "language": "python",
   "name": "python3"
  },
  "language_info": {
   "name": "python",
   "version": "3.9.1"
  },
  "orig_nbformat": 4,
  "vscode": {
   "interpreter": {
    "hash": "11938c6bc6919ae2720b4d5011047913343b08a43b18698fd82dedb0d4417594"
   }
  }
 },
 "nbformat": 4,
 "nbformat_minor": 2
}
