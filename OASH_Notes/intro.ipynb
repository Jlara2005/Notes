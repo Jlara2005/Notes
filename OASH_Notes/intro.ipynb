{
 "cells": [
  {
   "cell_type": "markdown",
   "metadata": {},
   "source": [
    "# introduction to OSHA \n",
    "\n",
    "# OSHA Mission\n",
    "\n",
    "## Key TakeAways\n",
    "\n"
   ]
  },
  {
   "cell_type": "markdown",
   "metadata": {},
   "source": [
    "- December 29, 1970. The OSH Act was sign by President Nixon\n",
    "\n",
    "- The OSHA agenecy is form in April 28,1971\n",
    "\n",
    "- made every employer job to keep the workplace healthy and safe for the employess including uniform regulations.\n",
    "\n",
    "- It mission to protect the workers \n",
    "\n",
    "- You won't get retaliated if you report any saftey work concerns or injury\n",
    " \n",
    "- You have to receive training and know any hazards that can happen in your job\n",
    "\n"
   ]
  },
  {
   "cell_type": "markdown",
   "metadata": {},
   "source": [
    "## fun or important fact"
   ]
  },
  {
   "cell_type": "markdown",
   "metadata": {},
   "source": [
    "- OSH act is also known as Public Law 91-596\n",
    "\n",
    "- charity counts under the osha act.\n",
    "\n",
    "- you can ask for copies of your medical records from your employer/boss"
   ]
  },
  {
   "cell_type": "markdown",
   "metadata": {},
   "source": [
    "# OSHA Standards"
   ]
  },
  {
   "cell_type": "markdown",
   "metadata": {},
   "source": [
    "## Key TakeAways\n",
    "\n",
    "- OSHA standards can be found in the Code of Federal Regulations (CFR). It also can be broken down to get standards for spefic work feild.\n",
    "\n",
    "- Everything can be found on this link https://www.osha.gov/laws-regs\n",
    "\n",
    "- Jobs under certain OSHA Standards have to limit hazards and employers to keep a record of injuries. Also want proper use of equipment.\n",
    "\n",
    "-  If there is no standards for a spefic jobs than it must follow the \"General Duty Clause\".\n",
    "\n",
    "- \"General Duty Clause\" Make the employers to keep the workplace free from hazards that can do serious harm.\n"
   ]
  },
  {
   "cell_type": "markdown",
   "metadata": {},
   "source": [
    "## fun or important facts\n",
    "\n",
    "- OSHA Wants labels on any pre-improvement hazards, Safety Gears including hearing, Rails Gaurds on tall platform or stairs\n",
    "\n",
    "- they also have to provide annuel hearing check which is neat to know"
   ]
  },
  {
   "cell_type": "markdown",
   "metadata": {},
   "source": [
    "# Employers responsibilities"
   ]
  },
  {
   "cell_type": "markdown",
   "metadata": {},
   "source": [
    "## Key TakeAways"
   ]
  },
  {
   "cell_type": "markdown",
   "metadata": {},
   "source": [
    "- Employers have many responsibilty including\n",
    "    - Complying to the OSHA Standards\n",
    "    - providing any requirement training to the employess\n",
    "    - Make and keep an records of injuries and illness. This also have certain requirement and method to create one.\n",
    "        - Must have a reporting system and able to send copies when requested (Anytime)\n",
    "        - Must post a annual(every year) summary\n",
    "        -  Have to report a fatality within 8 hours\n",
    "        - have to report an loss of a body limb or hospitallzation withen 24 hours\n",
    "    - Have to provide medical exams and let the employess have access to the medical records\n",
    "    - DO NOT DISCRIMINATE (Meanie)\n",
    "    - Must post any OSHA notices\n",
    "    - Have to provide Protective Gear (PPE)\n",
    "\n",
    "- Employers Must Pay for the Protective Gear \n"
   ]
  },
  {
   "cell_type": "markdown",
   "metadata": {},
   "source": [
    "## fun or important facts"
   ]
  },
  {
   "cell_type": "markdown",
   "metadata": {},
   "source": [
    "- Employers paying for protective gear was only implement in May 15, 2008"
   ]
  },
  {
   "attachments": {},
   "cell_type": "markdown",
   "metadata": {},
   "source": [
    "# Workers/Employess rights and responsibilities"
   ]
  },
  {
   "attachments": {},
   "cell_type": "markdown",
   "metadata": {},
   "source": [
    "## key TakeAway "
   ]
  },
  {
   "attachments": {},
   "cell_type": "markdown",
   "metadata": {},
   "source": [
    "- not much it restated before\n",
    "\n",
    "- workers have rights to report to OSHA and it is provided with saftey training\n",
    "\n",
    "- you can participate in the osha inspections"
   ]
  },
  {
   "attachments": {},
   "cell_type": "markdown",
   "metadata": {},
   "source": [
    "# inspection Process"
   ]
  },
  {
   "cell_type": "markdown",
   "metadata": {},
   "source": [
    "## Key TakeAways"
   ]
  },
  {
   "cell_type": "markdown",
   "metadata": {},
   "source": [
    "- There are a very small amount of workers for OSHA so it means that it only inspection high hazard jobs first.\n",
    "\n",
    "- Inspections can take up to 6 months\n",
    "\n",
    "- Employers have to report injuries and have to a walkthrough with the OSHA worker\n",
    "\n",
    "- OSHA may issue citations which usally includes fines and hazards removal\n",
    "\n",
    "- Workers who tell the employeer about OSHA inspection in advance might receive any sort of punishment (fine or jail)"
   ]
  },
  {
   "cell_type": "markdown",
   "metadata": {},
   "source": [
    "## Fun or Important facts\n",
    "\n",
    "- they have low budget\n",
    "\n",
    "- OSHA workers are CSHO ( Compliance safety and health officers)\n",
    "\n",
    "- 9% of the random inspection managed to failed it and get fined."
   ]
  },
  {
   "cell_type": "markdown",
   "metadata": {},
   "source": [
    "# Reporting OSHA"
   ]
  },
  {
   "cell_type": "markdown",
   "metadata": {},
   "source": [
    "## key TakeAway"
   ]
  },
  {
   "cell_type": "markdown",
   "metadata": {},
   "source": [
    "- There are many actions to report an hazard\n",
    "    1. Contact any employees that know workplace hazards and saftey (team leader, manager, safety committe )\n",
    "    2. Reporting to OSHA which can contain mutiple steps \n",
    "        - Call 1-800-321-OSHA or mail to OSHA\n",
    "        - Go to your local OSHA office\n",
    "        - File a Complaint to OSHA using this link https://www.osha.gov/form/osha7\n",
    "- OSHA have mutiple different responbe to the complaints. They Either Call the employer (not so surious) or conduct a inspection (Very seruios)\n",
    "- THE REPORT HAVE TO BE WITHIN 30 Days of the hazard situation (injuries or discriminated); "
   ]
  },
  {
   "cell_type": "markdown",
   "metadata": {},
   "source": [
    "# Whistleblower Protection"
   ]
  },
  {
   "cell_type": "markdown",
   "metadata": {},
   "source": [
    "## Key TakeAway\n",
    "\n",
    "- Employers can still can give out punishments and drug test but if it against the report than it illegal"
   ]
  },
  {
   "cell_type": "markdown",
   "metadata": {},
   "source": [
    "## fun or important facts\n",
    "\n",
    "- whistle Blowers have rights Under OSHA"
   ]
  },
  {
   "cell_type": "markdown",
   "metadata": {},
   "source": [
    "# Worker Resources\n",
    "\n",
    "## Key TakeAway\n",
    "\n",
    "-  There are some resources in job enivoment that you can take advantage, workers, Danger labels, training, medical record and more\n",
    "-  These resources are there to help you avoid hazard or saftly do your job.\n",
    "-  NIOSH IS OSHA side agency that focus on research and training. They also conducts HHE to check for any chemical leak.\n",
    "-  Healthcare providers like docter like to know what hazards your job have so they pinpoint more accurcy on the injuries or illness\n",
    "-  There are also soo many ways to find resources \n",
    "## Fun or important facts\n",
    "\n",
    "- "
   ]
  }
 ],
 "metadata": {
  "kernelspec": {
   "display_name": "Python 3.9.1 64-bit",
   "language": "python",
   "name": "python3"
  },
  "language_info": {
   "name": "python",
   "version": "3.9.1"
  },
  "orig_nbformat": 4,
  "vscode": {
   "interpreter": {
    "hash": "11938c6bc6919ae2720b4d5011047913343b08a43b18698fd82dedb0d4417594"
   }
  }
 },
 "nbformat": 4,
 "nbformat_minor": 2
}
