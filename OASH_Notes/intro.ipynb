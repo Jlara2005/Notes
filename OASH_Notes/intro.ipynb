{
 "cells": [
  {
   "cell_type": "markdown",
   "metadata": {},
   "source": [
    "# introduction to OSHA \n",
    "\n",
    "# OSHA Mission\n",
    "\n",
    "## Key TakeAways\n",
    "\n"
   ]
  },
  {
   "cell_type": "markdown",
   "metadata": {},
   "source": [
    "- December 29, 1970. The OSH Act was sign by President Nixon\n",
    "\n",
    "- The OSHA agenecy is form in April 28,1971\n",
    "\n",
    "- made every employer job to keep the workplace healthy and safe for the employess including uniform regulations.\n",
    "\n",
    "- It mission to protect the workers \n",
    "\n",
    "- You won't get retaliated if you report any saftey work concerns or injury\n",
    " \n",
    "- You have to receive training and know any hazards that can happen in your job\n",
    "\n"
   ]
  },
  {
   "cell_type": "markdown",
   "metadata": {},
   "source": [
    "## fun or important fact"
   ]
  },
  {
   "cell_type": "markdown",
   "metadata": {},
   "source": [
    "- OSH act is also known as Public Law 91-596\n",
    "\n",
    "- charity counts under the osha act.\n",
    "\n",
    "- you can ask for copies of your medical records from your employer/boss"
   ]
  },
  {
   "cell_type": "markdown",
   "metadata": {},
   "source": [
    "# OSHA Standards"
   ]
  },
  {
   "cell_type": "markdown",
   "metadata": {},
   "source": [
    "## Key TakeAways\n",
    "\n",
    "- OSHA standards can be found in the Code of Federal Regulations (CFR). It also can be broken down to get standards for spefic work feild.\n",
    "\n",
    "- Everything can be found on this link https://www.osha.gov/laws-regs\n",
    "\n",
    "- Jobs under certain OSHA Standards have to limit hazards and employers to keep a record of injuries. Also want proper use of equipment.\n",
    "\n",
    "-  If there is no standards for a spefic jobs than it must follow the \"General Duty Clause\".\n",
    "\n",
    "- \"General Duty Clause\" Make the employers to keep the workplace free from hazards that can do serious harm.\n"
   ]
  },
  {
   "cell_type": "markdown",
   "metadata": {},
   "source": [
    "## fun or important facts\n",
    "\n",
    "- OSHA Wants labels on any pre-improvement hazards, Safety Gears including hearing, Rails Gaurds on tall platform or stairs\n",
    "\n",
    "- they also have to provide annuel hearing check which is neat to know"
   ]
  },
  {
   "cell_type": "markdown",
   "metadata": {},
   "source": [
    "# Employers responsibilities"
   ]
  },
  {
   "cell_type": "markdown",
   "metadata": {},
   "source": [
    "## Key TakeAways"
   ]
  },
  {
   "cell_type": "markdown",
   "metadata": {},
   "source": [
    "- Employers have many responsibilty including\n",
    "    - Complying to the OSHA Standards\n",
    "    - providing any requirement training to the employess\n",
    "    - Make and keep an records of injuries and illness. This also have certain requirement and method to create one.\n",
    "        - Must have a reporting system and able to send copies when requested (Anytime)\n",
    "        - Must post a annual(every year) summary\n",
    "        -  Have to report a fatality within 8 hours\n",
    "        - have to report an loss of a body limb or hospitallzation withen 24 hours\n",
    "    - Have to provide medical exams and let the employess have access to the medical records\n",
    "    - DO NOT DISCRIMINATE (Meanie)\n",
    "    - Must post any OSHA notices\n",
    "    - Have to provide Protective Gear (PPE)\n",
    "\n",
    "- Employers Must Pay for the Protective Gear \n"
   ]
  },
  {
   "cell_type": "markdown",
   "metadata": {},
   "source": [
    "## fun or important facts"
   ]
  },
  {
   "cell_type": "markdown",
   "metadata": {},
   "source": [
    "- Employers paying for protective gear was only implement in May 15, 2008"
   ]
  },
  {
   "cell_type": "markdown",
   "metadata": {},
   "source": [
    "# Workers/Employess rights and responsibilities"
   ]
  }
 ],
 "metadata": {
  "kernelspec": {
   "display_name": "Python 3.9.1 64-bit",
   "language": "python",
   "name": "python3"
  },
  "language_info": {
   "name": "python",
   "version": "3.9.1"
  },
  "orig_nbformat": 4,
  "vscode": {
   "interpreter": {
    "hash": "11938c6bc6919ae2720b4d5011047913343b08a43b18698fd82dedb0d4417594"
   }
  }
 },
 "nbformat": 4,
 "nbformat_minor": 2
}
