{
 "cells": [
  {
   "attachments": {},
   "cell_type": "markdown",
   "metadata": {},
   "source": [
    "# Emergency Action Plans and Fire Protection "
   ]
  },
  {
   "attachments": {},
   "cell_type": "markdown",
   "metadata": {},
   "source": [
    "# Template\n",
    "\n",
    "## Key TakeAway\n",
    "\n",
    "-\n",
    "\n",
    "## Fun or important facts\n",
    "\n",
    "-"
   ]
  },
  {
   "attachments": {},
   "cell_type": "markdown",
   "metadata": {},
   "source": [
    "# Emergency Action Plan\n",
    "\n",
    "## Key TakeAway\n",
    "\n",
    "- You must make a EAP (Emergency Action Plan) require by OSHA\n",
    "- EAP will help train employees to avoid or prevent any Emergency\n",
    "- EAP must cover every expected emergency that may happen\n",
    "- Floor plans to show the emergency escape similer to school\n",
    "- EAP Must contain the following\n",
    "    - A way to report any emergency\n",
    "    - escape actions and establish emergency exits\n",
    "    - produces for the employees remain in the building \n",
    "    - steps to account all the employees that have been evacuation\n",
    "    - assign specific employees medical or rescue assignments\n",
    "    - emergency contact\n",
    "    - must have methods for people that may have mobility issues.\n",
    "    - Emergency alarm sound (optional)\n",
    "    - Communication code (optional)\n",
    "    - copy records of the employees (optional)\n",
    "\n",
    "\n",
    "## Fun or important facts\n",
    "\n",
    "- items is not important"
   ]
  },
  {
   "attachments": {},
   "cell_type": "markdown",
   "metadata": {},
   "source": [
    "# Fire Prevention Plan\n",
    "\n",
    "## Key TakeAway\n",
    "\n",
    "- It requiments for written fire prevention plan is very close to an EAP \n",
    "\n",
    "## Fun or important facts\n",
    "\n",
    "- Fire Prevention plan only need to be written when you hit the ten employees."
   ]
  }
 ],
 "metadata": {
  "language_info": {
   "name": "python"
  },
  "orig_nbformat": 4
 },
 "nbformat": 4,
 "nbformat_minor": 2
}
