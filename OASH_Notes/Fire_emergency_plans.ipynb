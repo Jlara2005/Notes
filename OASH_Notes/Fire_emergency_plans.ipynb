{
 "cells": [
  {
   "attachments": {},
   "cell_type": "markdown",
   "metadata": {},
   "source": [
    "# Emergency Action Plans and Fire Protection "
   ]
  },
  {
   "attachments": {},
   "cell_type": "markdown",
   "metadata": {},
   "source": [
    "# Template\n",
    "\n",
    "## Key TakeAway\n",
    "\n",
    "-\n",
    "\n",
    "## Fun or important facts\n",
    "\n",
    "-"
   ]
  },
  {
   "attachments": {},
   "cell_type": "markdown",
   "metadata": {},
   "source": [
    "# Emergency Action Plan\n",
    "\n",
    "## Key TakeAway\n",
    "\n",
    "- You must make a EAP (Emergency Action Plan) require by OSHA\n",
    "- EAP will help train employees to avoid or prevent any Emergency\n",
    "- EAP must cover every expected emergency that may happen\n",
    "- Floor plans to show the emergency escape similer to school\n",
    "- EAP Must contain the following\n",
    "    - A way to report any emergency\n",
    "    - escape actions and establish emergency exits\n",
    "    - produces for the employees remain in the building \n",
    "    - steps to account all the employees that have been evacuation\n",
    "    - assign specific employees medical or rescue assignments\n",
    "    - emergency contact\n",
    "    - must have methods for people that may have mobility issues.\n",
    "    - Emergency alarm sound (optional)\n",
    "    - Communication code (optional)\n",
    "    - copy records of the employees (optional)\n",
    "\n",
    "\n",
    "## Fun or important facts\n",
    "\n",
    "- items is not important"
   ]
  },
  {
   "attachments": {},
   "cell_type": "markdown",
   "metadata": {},
   "source": [
    "# Fire Prevention Plan\n",
    "\n",
    "## Key TakeAway\n",
    "\n",
    "- It requiments for written fire prevention plan is very close to an EAP \n",
    "- it contain plans/action to prevent fire like cleaning up spills or dispose trashs, also make sure they in a safe smoke-free enivroment\n",
    "- some company need to have a heat monitor\n",
    "- keep the fire sprinkler head cleaning. Don't block fire doors or fire extinguisher. do not let the fire door stay open.\n",
    "- Fire is made by a chemical reaction between heat, oxygen, and any type of fuel/combustible\n",
    "- keep track on any ignition sources\n",
    "\n",
    "## Fun or important facts\n",
    "\n",
    "- Fire Prevention plan only need to be written when you hit the ten employees."
   ]
  },
  {
   "cell_type": "markdown",
   "metadata": {},
   "source": [
    "# Evacuation\n",
    "\n",
    "## Key TakeAway\n",
    "\n",
    "- EAP have contain mutiple methods of Evacution for each different emergency and factors\n",
    "- Fire Hazard have many different ways to deal with it based of it factors like the size of the fire, total amount of employees or comsumers\n",
    "- fire extinguishers are there to protect the evacuation routs or to extinguish small fire\n",
    "- Before trying to fight fire, you have to perform a risk assessment.\n",
    "    - what is the fire size\n",
    "    - what is your closest evacuation path and it condition\n",
    "    - what is the atmosphere, very heated, clouded.\n",
    "- for hurricane hazard, prepared the evacuation plan by finding the closest shelter, Get hurricane shutters, listen to local hurrican watch or warning.\n",
    "- There are a Disaster Supply Kit which include\n",
    "    - First aid kit\n",
    "    - canned foo with a can opener\n",
    "    - Medications\n",
    "    - three gallons of water per person and each pet.\n",
    "    - protective cloths, rainwear, and bedding\n",
    "    - Battery-powered radio\n",
    "    - flashlight\n",
    "    - extra batteries.\n"
   ]
  },
  {
   "cell_type": "markdown",
   "metadata": {},
   "source": [
    "# Shelter-in-place\n",
    "\n",
    "## Key TakeAway\n",
    "\n",
    "- In any huge natural diaster, find a room with few to no windows and hide in there.\n",
    "- if you don't have a good place than try to attempt to go a local shelter\n",
    "- get the customer in your place as well.\n",
    "- quickly close all the external windows and doors and make sure any vent, air-conditional systems, clothes dryers, AC.\n",
    "- cover the vents so contaminated air don't come through \n",
    "- write down any names in the room\n",
    "\n",
    "## Fun or important facts\n",
    "\n",
    "- in a car for earthqauke only, stay in the car."
   ]
  },
  {
   "cell_type": "markdown",
   "metadata": {},
   "source": [
    "# Exit Routes\n",
    "\n",
    "## Key TakeAway\n",
    "\n",
    "-  There are many exit route requirement that including\n",
    "    - permanent, it not going to move.\n",
    "    - Have to be separated away from any non-fire prrof materials.\n",
    "    - Limited openings nearby.\n",
    "    - Have a good amount of exit routes\n",
    "    - lead directly outside.\n",
    "    - The door have to unlock from the inside and it must only use the side-hinged.\n",
    "    - the minimum height is 7 feet and 6 inches tall and 28 inches wide.\n",
    "- Evacuation requirements\n",
    "    - There have to be a primary exit and a secondary exit. \n",
    "    - mark down hazards rooms\n",
    "    - avoiding narrow passages\n",
    "    - mark down exit signs\n",
    "    - mark a room to all hudle in\n",
    "    - indicate stairs or elevators. \n",
    "    - mark down certain exits that have wheelchair access\n",
    "    - mark down the employee current location\n"
   ]
  },
  {
   "cell_type": "markdown",
   "metadata": {},
   "source": [
    "# types of Fire Extinguishers\n",
    "\n",
    "## Key TakeAway\n",
    "\n",
    "- There are five different types of fire extinguishers \n",
    "    - Class A covers up fire from wood, cloth, paper, and any ordinary combustible materials ( Air pressurized water)\n",
    "    - Class B cover up liquid fires (carbon dioxide)\n",
    "    - Class C cover up electrical equipment\n",
    "    - Class D cover ups Fire from combustible metal like sodium\n",
    "    - Class K cover up fire from cooking (dry and wet chemical)\n",
    "\n",
    "## Fun or important facts\n",
    "\n",
    "- there are muti-task fire extinguishers that cover A B C type fire."
   ]
  }
 ],
 "metadata": {
  "kernelspec": {
   "display_name": "Python 3.9.1 64-bit",
   "language": "python",
   "name": "python3"
  },
  "language_info": {
   "name": "python",
   "version": "3.9.1"
  },
  "orig_nbformat": 4,
  "vscode": {
   "interpreter": {
    "hash": "11938c6bc6919ae2720b4d5011047913343b08a43b18698fd82dedb0d4417594"
   }
  }
 },
 "nbformat": 4,
 "nbformat_minor": 2
}
