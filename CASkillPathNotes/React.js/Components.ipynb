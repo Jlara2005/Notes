{
 "cells": [
  {
   "attachments": {},
   "cell_type": "markdown",
   "metadata": {},
   "source": [
    "# React Components\n",
    "### Benifits\n",
    "\n",
    "- reusable code similer to a function to render any changes to the html page\n",
    "\n",
    "- Work Very similer to JSX"
   ]
  },
  {
   "attachments": {},
   "cell_type": "markdown",
   "metadata": {},
   "source": [
    "# example"
   ]
  },
  {
   "cell_type": "code",
   "execution_count": null,
   "metadata": {
    "vscode": {
     "languageId": "javascript"
    }
   },
   "outputs": [],
   "source": [
    "%%javascript\n",
    "/*\n",
    "import React from 'react';\n",
    "import ReactDOM from 'react-dom/client';\n",
    "\n",
    "*/\n",
    "\n",
    "\n",
    "// react component MUST START WITH A CAP LETTER.\n",
    "function Mycomponent() {\n",
    "    // any thing can happen here before return.\n",
    " return <h1>hello there </h1>; // it can include attrubutes like JSX\n",
    "}\n",
    "/*  \n",
    "it export the function for other file to use it\n",
    "not really required unless you going to have a file full\n",
    "of components\n",
    "*/\n",
    "export default MyComponent \n",
    "\n",
    "// it is very similer to how to render regular JSX.\n",
    "// the only difference is that we use the componenet name.\n",
    "const container = document.getElementById('Idname');\n",
    "const root = ReactDOM.createRoot(container);\n",
    "root.render(<MyComponent />); \n"
   ]
  },
  {
   "attachments": {},
   "cell_type": "markdown",
   "metadata": {},
   "source": [
    "# Muti-line Component\n"
   ]
  },
  {
   "cell_type": "code",
   "execution_count": null,
   "metadata": {
    "vscode": {
     "languageId": "javascript"
    }
   },
   "outputs": [],
   "source": [
    "%%javascript\n",
    "/*\n",
    "it work very similer to multiline JSX\n",
    "it also follow all the rules of multiline JSX\n",
    "that includes that there most be a most outer element.\n",
    "and there should have parantess around.\n",
    "*/\n",
    "function MultilineComponent(){\n",
    "    return (\n",
    "        <body> \n",
    "            <p>\n",
    "                hello\n",
    "            </p>\n",
    "        </body>\n",
    "    );\n",
    "}"
   ]
  }
 ],
 "metadata": {
  "kernelspec": {
   "display_name": "Python 3",
   "language": "python",
   "name": "python3"
  },
  "language_info": {
   "name": "python",
   "version": "3.8.5"
  },
  "orig_nbformat": 4
 },
 "nbformat": 4,
 "nbformat_minor": 2
}
