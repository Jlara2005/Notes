{
 "cells": [
  {
   "attachments": {},
   "cell_type": "markdown",
   "metadata": {},
   "source": [
    "# Welcome"
   ]
  },
  {
   "attachments": {},
   "cell_type": "markdown",
   "metadata": {},
   "source": [
    "This folder will teach all of React.js skill course in codeacademy as best as i can explain. \n"
   ]
  },
  {
   "attachments": {},
   "cell_type": "markdown",
   "metadata": {},
   "source": [
    "# Requirements for all React.js tutorial\n",
    "\n",
    "- Any text editors. ex: Visual Studio code, Visual Studio, Notepad++,Notepad, and etc\n",
    "- Need knowledge of javascript.  [Javascript Tutorials](../Programming%20Notes/Javascript%20notes/Intro.ipynb) reminder to change the link on all existing intro\n",
    "- Need a way to show your code in html.\n",
    "- Need to know the package/framework of phaser.\n",
    "- your determinations. (my determinations is gone)"
   ]
  },
  {
   "attachments": {},
   "cell_type": "markdown",
   "metadata": {},
   "source": [
    "# Benifits\n",
    "\n",
    "- It uses virtual dom to faster render any new changes on the html pages."
   ]
  },
  {
   "attachments": {},
   "cell_type": "markdown",
   "metadata": {},
   "source": [
    "# Set Up\n",
    "\n",
    "1.  First create an empty folder that you going to put the project in\n",
    "\n",
    "2. Make sure that you have the most updated node and npm to install the required packages.\n",
    "\n",
    "3. In command prompt use npx create-react-app myprojectname\n",
    "    you can replace the project name with anything aslong it have no caps or space or symbols.\n",
    "4. now use cd to get in your project folder.\n",
    "\n",
    "5. use npm start and that will open up a broswer with react.js to use"
   ]
  }
 ],
 "metadata": {
  "kernelspec": {
   "display_name": "Python 3",
   "language": "python",
   "name": "python3"
  },
  "language_info": {
   "codemirror_mode": {
    "name": "ipython",
    "version": 3
   },
   "file_extension": ".py",
   "mimetype": "text/x-python",
   "name": "python",
   "nbconvert_exporter": "python",
   "pygments_lexer": "ipython3",
   "version": "3.8.5"
  },
  "orig_nbformat": 4
 },
 "nbformat": 4,
 "nbformat_minor": 2
}
