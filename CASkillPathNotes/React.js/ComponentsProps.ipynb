{
 "cells": [
  {
   "attachments": {},
   "cell_type": "markdown",
   "metadata": {},
   "source": [
    "# Propertires of Componenets\n",
    "\n",
    "- it is a continuetion of the components notes but since it talk a different subject it have it own notes page"
   ]
  },
  {
   "cell_type": "code",
   "execution_count": 2,
   "metadata": {
    "vscode": {
     "languageId": "javascript"
    }
   },
   "outputs": [
    {
     "data": {
      "application/javascript": "/*\nimport React from 'react';\nimport ReactDOM from 'react-dom/client';\n*/\n\n\n// Start off like a component but this time it will have properties/agruements\nfunction Mycomponent(properties) {\n    // the string will grab properties. but since properties alwyas to going to be object format. we have to grab spefic data\n    let string = properties.name\n return <h1>{string} </h1>; // This just sends the properties to the page.\n}\n\n\nconst container = document.getElementById('Idname');\nconst root = ReactDOM.createRoot(container);\nroot.render(<MyComponent name=\"Jason Lara\" />); // you put the properties in the component JSX. \n",
      "text/plain": [
       "<IPython.core.display.Javascript object>"
      ]
     },
     "metadata": {},
     "output_type": "display_data"
    }
   ],
   "source": [
    "%%javascript\n",
    "/*\n",
    "import React from 'react';\n",
    "import ReactDOM from 'react-dom/client';\n",
    "*/\n",
    "\n",
    "\n",
    "// Start off like a component but this time it will have properties/agruements\n",
    "function Mycomponent(props) {\n",
    "    // the string will grab properties. but since properties alwyas to going to be object format. we have to grab spefic data\n",
    "    let string = props.name\n",
    "    return <h1>{string} </h1>; // This just sends the properties to the page. you can also do this all together without the string varible.\n",
    "}\n",
    "function Mypartentcomponent() { \n",
    "    return <Mycomponent name=\"bob ross\" /> //parents component can send properties to the child component\n",
    "}\n",
    "\n",
    "const container = document.getElementById('Idname');\n",
    "const root = ReactDOM.createRoot(container);\n",
    "root.render(<MyComponent name=\"Jason Lara\" pet={false} list={[\"hey\", \"pizza\"]} />);\n",
    "// you put the properties in the component JSX.\n",
    "// Putting in properties almost work similer as putting in html attrubutes. "
   ]
  },
  {
   "attachments": {},
   "cell_type": "markdown",
   "metadata": {},
   "source": [
    "# passing event handlers as props"
   ]
  },
  {
   "cell_type": "code",
   "execution_count": null,
   "metadata": {
    "vscode": {
     "languageId": "javascript"
    }
   },
   "outputs": [],
   "source": [
    "%%javascript\n",
    "/*\n",
    "import React from 'react';\n",
    "import ReactDOM from 'react-dom/client';\n",
    "*/\n",
    "\n",
    "\n",
    "// you can pass down event listerners as properties. \n",
    "function Mycomponent(props) {\n",
    " return <button onClick={props.coding}> </button> //now the button have the parent components event listeners.\n",
    "}\n",
    "\n",
    "//There can only be one parent \n",
    "function Mypartentcomponent() { \n",
    "    function coding() {\n",
    "        alert(\"hello there coders.\")\n",
    "    }\n",
    "    return <Mycomponent eventlistners={coding} /> //this componet create the event listner and send off to the child component\n",
    "}\n"
   ]
  },
  {
   "attachments": {},
   "cell_type": "markdown",
   "metadata": {},
   "source": [
    "# passing Child elements to props."
   ]
  },
  {
   "cell_type": "code",
   "execution_count": null,
   "metadata": {
    "vscode": {
     "languageId": "javascript"
    }
   },
   "outputs": [],
   "source": [
    "%%javascript\n",
    "/*\n",
    "import React from 'react';\n",
    "import ReactDOM from 'react-dom/client';\n",
    "*/\n",
    "\n",
    "\n",
    "function Mycomponent(props) {\n",
    " return <div> {props.children} </div> //now the html div will contain the string/children of the properties\n",
    "}\n",
    "\n",
    "//There can only be one parent \n",
    "function Mypartentcomponent() { \n",
    "    return <Mycomponent> hello there im a child </Mycomponent> \n",
    "    //this componet Works similer to a html JSX. It pass any child element to the component\n",
    "}\n"
   ]
  },
  {
   "attachments": {},
   "cell_type": "markdown",
   "metadata": {},
   "source": [
    "# setting up default props"
   ]
  },
  {
   "cell_type": "code",
   "execution_count": null,
   "metadata": {
    "vscode": {
     "languageId": "javascript"
    }
   },
   "outputs": [],
   "source": [
    "%%javascript\n",
    "/*\n",
    "import React from 'react';\n",
    "import ReactDOM from 'react-dom/client';\n",
    "*/\n",
    "\n",
    "\n",
    "function Mycomponent(props) {\n",
    " return <div> {props.text} </div> //Since no other render or component set down a text props so it use the default props.\n",
    "}\n",
    "\n",
    "//this is one method of setting up defaults props. the others method is defining it in the function.\n",
    "Mycomponent.defaultProps = {\n",
    "    text = \"hello there\"\n",
    "}"
   ]
  }
 ],
 "metadata": {
  "kernelspec": {
   "display_name": "Python 3",
   "language": "python",
   "name": "python3"
  },
  "language_info": {
   "codemirror_mode": {
    "name": "ipython",
    "version": 3
   },
   "file_extension": ".py",
   "mimetype": "text/x-python",
   "name": "python",
   "nbconvert_exporter": "python",
   "pygments_lexer": "ipython3",
   "version": "3.10.11"
  },
  "orig_nbformat": 4
 },
 "nbformat": 4,
 "nbformat_minor": 2
}
