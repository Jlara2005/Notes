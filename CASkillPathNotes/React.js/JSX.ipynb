{
 "cells": [
  {
   "attachments": {},
   "cell_type": "markdown",
   "metadata": {},
   "source": [
    "# JSX (syntax extension)"
   ]
  },
  {
   "attachments": {},
   "cell_type": "markdown",
   "metadata": {},
   "source": [
    "React have a JSX compiler install so they can put HTML tags into a Javascript file"
   ]
  },
  {
   "attachments": {},
   "cell_type": "markdown",
   "metadata": {},
   "source": [
    "# example"
   ]
  },
  {
   "cell_type": "code",
   "execution_count": 4,
   "metadata": {
    "vscode": {
     "languageId": "javascript"
    }
   },
   "outputs": [
    {
     "data": {
      "application/javascript": "const h1 = <h1>Hello world</h1>; // the html tag is the JSX \n\nconst h2 = <h2 width='500px' >Big hello there</h2> // JSX can also have html attributes\n\nconst nested = <body><p> Im inside body</p></body> // There can be a nested JSX \nconst multiNested = (<body>\n    <p> Im inside body</p>\n    </body>) // On a mutiline Nested JSX it must be surrounded by parentheses  \n",
      "text/plain": [
       "<IPython.core.display.Javascript object>"
      ]
     },
     "metadata": {},
     "output_type": "display_data"
    }
   ],
   "source": [
    "%%javascript\n",
    "// import React from 'react';\n",
    "//import { createRoot } from 'react-dom/client';\n",
    "\n",
    "const h1 = <h1>Hello world</h1>; // the html tag is the JSX \n",
    "\n",
    "const h2 = <h2 width='500px' >Big hello there</h2>; \n",
    "/*\n",
    "JSX can also have html attributes  \n",
    "JSX uses eventlisteners like onClick.It have to be camelCase for JSX but not html.\n",
    "example: <input onClick = {functionname} />\n",
    "*/\n",
    "\n",
    "const h3 = <h3 className='500px' >Big hello there</h3>;\n",
    " // JSX don't class attribute instead they uses className\n",
    "\n",
    "const br = <br/> //JSX want every html tag to be close.\n",
    "\n",
    "const js = <h2>2 + 3</h2> // it will show on the page as 2 + 3\n",
    "\n",
    "const JS = <h2>{2 + 3}</h2>\n",
    "/* it will treate 2+3 as javascript and shown on screen a five because it in curly brackets.\n",
    "Will also can be use to pass in javascript varibles. \n",
    "*/\n",
    "\n",
    "const nested = <body><p> Im inside body</p></body>; // There can be a nested JSX.\n",
    "const multiNested = (<body>\n",
    "    <p> Im inside body</p>\n",
    "    </body>); // On a mutiline Nested JSX it must be surrounded by parentheses  \n",
    "    //The code must be nested and not a mutiple elements list or it will break"
   ]
  },
  {
   "attachments": {},
   "cell_type": "markdown",
   "metadata": {},
   "source": [
    "# Rendering JSX"
   ]
  },
  {
   "cell_type": "code",
   "execution_count": null,
   "metadata": {
    "vscode": {
     "languageId": "javascript"
    }
   },
   "outputs": [],
   "source": [
    "%%javascript\n",
    "import React from 'react';\n",
    "import { createRoot } from 'react-dom/client';\n",
    "\n",
    "// first you grab the element you want to change from your html page.\n",
    "const container = document.getElementById('Idname');\n",
    "// second you must create a root using one of the funrction from react.\n",
    "const root = createRoot(container);\n",
    "//finally you can use the render function to send any JSX to the html page\n",
    "root.render(<h1>HELLO THERE</h1>);\n",
    "/* It only Change the Html element if anything change.   \n",
    "   if they both the same. it will not try to render it again.\n",
    "*/\n",
    "let string = \"hello there\"\n",
    "root.render(<h1>{string}</h1>); // it will see the string varible and send the value to the page.\n",
    "\n",
    "\n"
   ]
  }
 ],
 "metadata": {
  "kernelspec": {
   "display_name": "Python 3",
   "language": "python",
   "name": "python3"
  },
  "language_info": {
   "codemirror_mode": {
    "name": "ipython",
    "version": 3
   },
   "file_extension": ".py",
   "mimetype": "text/x-python",
   "name": "python",
   "nbconvert_exporter": "python",
   "pygments_lexer": "ipython3",
   "version": "3.8.5"
  },
  "orig_nbformat": 4
 },
 "nbformat": 4,
 "nbformat_minor": 2
}
