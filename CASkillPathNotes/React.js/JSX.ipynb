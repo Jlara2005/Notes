{
 "cells": [
  {
   "attachments": {},
   "cell_type": "markdown",
   "metadata": {},
   "source": [
    "# JSX (syntax extension)"
   ]
  },
  {
   "attachments": {},
   "cell_type": "markdown",
   "metadata": {},
   "source": [
    "React have a JSX compiler install so they can put HTML tags into a Javascript file"
   ]
  },
  {
   "attachments": {},
   "cell_type": "markdown",
   "metadata": {},
   "source": [
    "# example"
   ]
  },
  {
   "cell_type": "code",
   "execution_count": null,
   "metadata": {
    "vscode": {
     "languageId": "javascript"
    }
   },
   "outputs": [],
   "source": [
    "%%javascript\n",
    "// import React from 'react';\n",
    "//import { createRoot } from 'react-dom/client';\n",
    "\n",
    "const h1 = <h1>Hello world</h1>; // the html tag is the JSX \n",
    "\n",
    "const h2 = <h2 width='500px' >Big hello there</h2>; \n",
    "/*\n",
    "JSX can also have html attributes  \n",
    "JSX uses eventlisteners like onClick.It have to be camelCase for JSX but not html.\n",
    "*/\n",
    "<input onClick = {functionname} />\n",
    "\n",
    "const h3 = <h3 className='500px' >Big hello there</h3>;\n",
    " // JSX don't class attribute instead they uses className\n",
    "\n",
    "const br = <br/> //JSX want every html tag to be close.\n",
    "\n",
    "const js = <h2>2 + 3</h2> // it will show on the page as 2 + 3\n",
    "\n",
    "const JS = <h2>{2 + 3}</h2>\n",
    "/* it will treate 2+3 as javascript and shown on screen a five because it in curly brackets.\n",
    "Will also can be use to pass in javascript varibles. \n",
    "*/\n",
    "\n",
    "const nested = <body><p> Im inside body</p></body>; // There can be a nested JSX.\n",
    "const multiNested = (<body>\n",
    "    <p> Im inside body</p>\n",
    "    </body>); // On a mutiline Nested JSX it must be surrounded by parentheses  \n",
    "    //The code must be nested and not a mutiple elements list or it will break"
   ]
  },
  {
   "attachments": {},
   "cell_type": "markdown",
   "metadata": {},
   "source": [
    "# Rendering JSX"
   ]
  },
  {
   "cell_type": "code",
   "execution_count": null,
   "metadata": {
    "vscode": {
     "languageId": "javascript"
    }
   },
   "outputs": [],
   "source": [
    "%%javascript\n",
    "import React from 'react';\n",
    "import { createRoot } from 'react-dom/client';\n",
    "\n",
    "// first you grab the element you want to change from your html page.\n",
    "const container = document.getElementById('Idname');\n",
    "// second you must create a root using one of the funrction from react.\n",
    "const root = createRoot(container);\n",
    "//finally you can use the render function to send any JSX to the html page\n",
    "root.render(<h1>HELLO THERE</h1>);\n",
    "/* It only Change the Html element if anything change.   \n",
    "   if they both the same. it will not try to render it again.\n",
    "*/\n",
    "let string = \"hello there\"\n",
    "root.render(<h1>{string}</h1>); // it will see the string varible and send the value to the page.\n",
    "\n",
    "\n"
   ]
  },
  {
   "cell_type": "markdown",
   "metadata": {},
   "source": [
    "# conditional statement JSX\n",
    "\n",
    "- a regular if statement if(){}\n",
    "- a tenary if statement {condution ? true : false} it in curly brackets for JSX to read.\n",
    "-  && condition.  { conditional %% \\<h1> info \\</h1> }"
   ]
  },
  {
   "cell_type": "code",
   "execution_count": null,
   "metadata": {
    "vscode": {
     "languageId": "javascript"
    }
   },
   "outputs": [],
   "source": [
    "%%javascript\n",
    "\n",
    "//example one\n",
    "if (condition) {\n",
    "    let h1 = <h1>hello 1</h1>\n",
    "} else {\n",
    "    let h1 = <h1>hello 2</h1>\n",
    "}\n",
    "\n",
    "//example two\n",
    "let h1 = {condution ? <h1>hello 1</h1> : <h1>hello 2</h1>}\n",
    "\n",
    "//example three\n",
    "\n",
    "let h1 = (\n",
    "    {conditional && <h1>hello there</h1>}\n",
    ")\n",
    "\n",
    "\n"
   ]
  },
  {
   "cell_type": "markdown",
   "metadata": {},
   "source": [
    "# JSX map\n",
    "### a way to loop a array and input them in a JSX format\n",
    "- Array.map((varible,index) =>  \\<h1> {varible} \\</h1>)\n",
    "\n",
    "- You can also already have am array of JSX and you can just do this. \\<h2> {array} \\</h2>"
   ]
  },
  {
   "cell_type": "code",
   "execution_count": null,
   "metadata": {
    "vscode": {
     "languageId": "javascript"
    }
   },
   "outputs": [],
   "source": [
    "%%javascript\n",
    "// first example\n",
    "const names = [\"jason\",\"bob\",\"jacob\",\"Logan\",\"Shane\"]\n",
    "\n",
    "const JSXname = names.map(people => <li>{people}</li>);\n",
    "\n",
    "const list = <ul>{JSXname}</ul>\n",
    "\n",
    "//second example\n",
    "const array = [<h1>hello</h1>,<h2>Bye</h2>]\n",
    "const body = <body>{array}</body>"
   ]
  },
  {
   "cell_type": "markdown",
   "metadata": {},
   "source": [
    "# JSX Keys\n",
    "\n",
    "- they are similer to Ids but only react reads them and keep track of keys. \n",
    "\n",
    "- it helps organized a list "
   ]
  },
  {
   "cell_type": "code",
   "execution_count": null,
   "metadata": {
    "vscode": {
     "languageId": "javascript"
    }
   },
   "outputs": [],
   "source": [
    "%%javascript\n",
    "\n",
    "// keys example\n",
    "const headers = [<h1 key=\"body_1\"> hello there</h1>, <h2 key=\"body_2\"> hello there</h2>]\n",
    "\n",
    "const body = <body>{headers}</body>"
   ]
  },
  {
   "cell_type": "markdown",
   "metadata": {},
   "source": [
    "# create JSX element \n",
    "\n",
    "- createElement(type,props,children)"
   ]
  },
  {
   "cell_type": "code",
   "execution_count": null,
   "metadata": {
    "vscode": {
     "languageId": "javascript"
    }
   },
   "outputs": [],
   "source": [
    "%%javascript\n",
    "import { createElement } from 'react';\n",
    "\n",
    "//create basic element example\n",
    "// first argrument is the element name, second is the atributes of the element, third is the text or child\n",
    "const element = createElement(\"body\",null,\"hello there\"); \n",
    "\n",
    "//creating a element with a attributes\n",
    "const element2 = createElement(\"h1\",{id:\"hey\", className:\"why\"},\"hello there\"); \n",
    "\n",
    "//creating a element with a child\n",
    "const element2 = createElement(\"div\",{id:\"hey\", className:\"why\"},createElement(\"p1\",null,\"hello there\"), \"elements have happen\" ); "
   ]
  }
 ],
 "metadata": {
  "kernelspec": {
   "display_name": "Python 3.9.1 64-bit",
   "language": "python",
   "name": "python3"
  },
  "language_info": {
   "codemirror_mode": {
    "name": "ipython",
    "version": 3
   },
   "file_extension": ".py",
   "mimetype": "text/x-python",
   "name": "python",
   "nbconvert_exporter": "python",
   "pygments_lexer": "ipython3",
   "version": "3.9.1"
  },
  "orig_nbformat": 4,
  "vscode": {
   "interpreter": {
    "hash": "11938c6bc6919ae2720b4d5011047913343b08a43b18698fd82dedb0d4417594"
   }
  }
 },
 "nbformat": 4,
 "nbformat_minor": 2
}
