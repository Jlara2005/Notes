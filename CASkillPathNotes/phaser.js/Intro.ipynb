{
 "cells": [
  {
   "attachments": {},
   "cell_type": "markdown",
   "metadata": {},
   "source": [
    "# Welcome"
   ]
  },
  {
   "attachments": {},
   "cell_type": "markdown",
   "metadata": {},
   "source": [
    "This folder will teach all of Phaser.js skill course in codeacademy as best as i can explain. \n"
   ]
  },
  {
   "attachments": {},
   "cell_type": "markdown",
   "metadata": {},
   "source": [
    "# Requirements for all Phaser.js tutorial\n",
    "\n",
    "- Any text editors. ex: Visual Studio code, Visual Studio, Notepad++,Notepad, and etc\n",
    "- Need knowledge of javascript.  [Javascript Tutorials](../../Programming%20Notes/Javascript%20notes/Intro.ipynb)\n",
    "- Need a way to show your code in html.\n",
    "- Need to know the package/framework of phaser.\n",
    "- your determinations. (my determinations is gone)"
   ]
  }
 ],
 "metadata": {
  "kernelspec": {
   "display_name": "Python 3",
   "language": "python",
   "name": "python3"
  },
  "language_info": {
   "codemirror_mode": {
    "name": "ipython",
    "version": 3
   },
   "file_extension": ".py",
   "mimetype": "text/x-python",
   "name": "python",
   "nbconvert_exporter": "python",
   "pygments_lexer": "ipython3",
   "version": "3.8.5"
  },
  "orig_nbformat": 4
 },
 "nbformat": 4,
 "nbformat_minor": 2
}
