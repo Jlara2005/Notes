{
 "cells": [
  {
   "cell_type": "markdown",
   "metadata": {},
   "source": [
    "` the first line of each code will tell you. which and what being edit in the toturial`\n",
    "\n",
    "What is needed for this toturial \n",
    "- Any code editor ex: visual studio code, notepad++, notepad, visual studio, etc\n",
    "- Command Prompt or window terminal.\n",
    "\n",
    "##### express Is node module that is used to open up a server\n"
   ]
  },
  {
   "cell_type": "markdown",
   "metadata": {},
   "source": [
    "# installtion\n",
    "use command prompt or terminal\n",
    "\n",
    "set the installtion in your current project folder"
   ]
  },
  {
   "cell_type": "code",
   "execution_count": null,
   "metadata": {
    "vscode": {
     "languageId": "bat"
    }
   },
   "outputs": [],
   "source": [
    "%%cmd \n",
    "npm i express"
   ]
  },
  {
   "cell_type": "markdown",
   "metadata": {},
   "source": [
    "Create a JS file in the project. example files names: app.js,  index.js, and \"name\".js."
   ]
  },
  {
   "cell_type": "markdown",
   "metadata": {},
   "source": [
    "# settting it up"
   ]
  },
  {
   "cell_type": "code",
   "execution_count": null,
   "metadata": {
    "vscode": {
     "languageId": "javascript"
    }
   },
   "outputs": [],
   "source": [
    "%%javascript\n",
    "const express = require('express');\n",
    "const app = express();"
   ]
  },
  {
   "cell_type": "markdown",
   "metadata": {},
   "source": [
    "# creating Get request/End Points\n",
    "this will send information to the client when joining your server\n"
   ]
  },
  {
   "cell_type": "code",
   "execution_count": null,
   "metadata": {
    "vscode": {
     "languageId": "javascript"
    }
   },
   "outputs": [],
   "source": [
    "%%javascript\n",
    "// the call back function of app.get already have request and response. it can also be rename to anything. in my prefernce I use req,res\n",
    "app.get(\"/\",function(req,res){\n",
    "    res.send('hello')  // res.send will send information or html tags to the client page\n",
    "})\n"
   ]
  },
  {
   "cell_type": "markdown",
   "metadata": {},
   "source": [
    "# creating a listen server"
   ]
  },
  {
   "cell_type": "code",
   "execution_count": null,
   "metadata": {
    "vscode": {
     "languageId": "javascript"
    }
   },
   "outputs": [],
   "source": [
    "%%javascript\n",
    "// app.listen is required to have a port number in it first agrument. the callback function is there to catch the error\n",
    "app.listen('3000',function(error) {\n",
    "    if (error) {\n",
    "        console.log(error);\n",
    "    } else {\n",
    "        console.log(\"server started\");\n",
    "    }\n",
    "})\n",
    "// the server will launch at the host ip address with port. Ex. localhost:3000, or \"Ip address\":3000 "
   ]
  },
  {
   "cell_type": "markdown",
   "metadata": {},
   "source": [
    "# starting a server\n",
    "\n",
    "We are back using the Command Prompt"
   ]
  },
  {
   "cell_type": "code",
   "execution_count": null,
   "metadata": {
    "vscode": {
     "languageId": "bat"
    }
   },
   "outputs": [],
   "source": [
    "%%cmd\n",
    "Node app.js "
   ]
  },
  {
   "attachments": {},
   "cell_type": "markdown",
   "metadata": {},
   "source": [
    "Using the cmd command to get the server launch \n",
    "\n",
    "<img src=\"examples/exampleCMD.png\" alt=\"Alternative text\" />"
   ]
  },
  {
   "cell_type": "markdown",
   "metadata": {},
   "source": [
    "# End Product\n"
   ]
  },
  {
   "cell_type": "markdown",
   "metadata": {},
   "source": [
    "Inside App.js file or javascript file"
   ]
  },
  {
   "cell_type": "code",
   "execution_count": null,
   "metadata": {
    "vscode": {
     "languageId": "javascript"
    }
   },
   "outputs": [],
   "source": [
    "%%javascript\n",
    "const express = require('express');\n",
    "const app = express();\n",
    "\n",
    "app.get(\"/\",function(req,res){\n",
    "    res.send('hello')\n",
    "})\n",
    "\n",
    "app.listen('3000',function(error) {\n",
    "    if (error) {\n",
    "        console.log(error);\n",
    "    } else {\n",
    "        console.log(\"server started\");\n",
    "    }\n",
    "})"
   ]
  },
  {
   "cell_type": "markdown",
   "metadata": {},
   "source": [
    "In the Project folder\n",
    "\n",
    "<img src=\"examples/folderExample.png\" alt=\"Alternative text\" />"
   ]
  },
  {
   "cell_type": "markdown",
   "metadata": {},
   "source": [
    "## results\n",
    "\n",
    "when connected to the client or server. you should get a html page with the message hello\n",
    "\n",
    "<img src=\"examples/example.png\" alt=\"Alternative text\" />"
   ]
  }
 ],
 "metadata": {
  "kernelspec": {
   "display_name": "Python 3.9.1 64-bit",
   "language": "python",
   "name": "python3"
  },
  "language_info": {
   "codemirror_mode": {
    "name": "ipython",
    "version": 3
   },
   "file_extension": ".py",
   "mimetype": "text/x-python",
   "name": "python",
   "nbconvert_exporter": "python",
   "pygments_lexer": "ipython3",
   "version": "3.9.1"
  },
  "orig_nbformat": 4,
  "vscode": {
   "interpreter": {
    "hash": "11938c6bc6919ae2720b4d5011047913343b08a43b18698fd82dedb0d4417594"
   }
  }
 },
 "nbformat": 4,
 "nbformat_minor": 2
}
