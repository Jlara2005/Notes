{
 "cells": [
  {
   "attachments": {},
   "cell_type": "markdown",
   "metadata": {},
   "source": [
    "# welcome\n",
    "\n",
    "This folder will mostly teach about HTML the best way I can"
   ]
  },
  {
   "attachments": {},
   "cell_type": "markdown",
   "metadata": {},
   "source": [
    "# Requirements for all HTML tutorial\n",
    "\n",
    "- Any text editors. ex: Visual Studio code, Visual Studio, Notepad++,Notepad, and etc\n",
    "- HTML file\n",
    "- any way to show HTML file \n",
    "    1. Google Chrome (reccomand) most tutorial are towards chrome\n",
    "    2. Internet explorer \n",
    "    3. others web browser that work for you\n",
    "- your determinations. (my determinations is gone)"
   ]
  }
 ],
 "metadata": {
  "kernelspec": {
   "display_name": "Python 3",
   "language": "python",
   "name": "python3"
  },
  "language_info": {
   "name": "python",
   "version": "3.8.5"
  },
  "orig_nbformat": 4
 },
 "nbformat": 4,
 "nbformat_minor": 2
}
