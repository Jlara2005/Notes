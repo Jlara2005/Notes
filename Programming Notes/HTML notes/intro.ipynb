{
 "cells": [
  {
   "attachments": {},
   "cell_type": "markdown",
   "metadata": {},
   "source": [
    "# Welcome\n",
    "\n",
    "This folder will mostly teach about HTML the best way I can"
   ]
  },
  {
   "attachments": {},
   "cell_type": "markdown",
   "metadata": {},
   "source": [
    "# Requirements for all HTML tutorial\n",
    "\n",
    "- Any text editors. ex: Visual Studio Code, Visual Studio, Notepad++, Notepad, and etc\n",
    "- HTML file\n",
    "- Any way to show HTML file \n",
    "    1. Google Chrome (recommended) most tutorial are towards Chrome\n",
    "    2. Internet Explorer \n",
    "    3. Others web browser that work for you\n",
    "- Your determinations. (my determinations is gone)"
   ]
  },
  {
   "attachments": {},
   "cell_type": "markdown",
   "metadata": {},
   "source": [
    "# Setup\n",
    "##### 1. Make a file with the file extentsion `.html`"
   ]
  },
  {
   "attachments": {},
   "cell_type": "markdown",
   "metadata": {},
   "source": [
    "<img src='example/FileExample.png' alt=\"Image error\" />"
   ]
  },
  {
   "attachments": {},
   "cell_type": "markdown",
   "metadata": {},
   "source": [
    "Note: The icon might be different depending our your browser"
   ]
  },
  {
   "attachments": {},
   "cell_type": "markdown",
   "metadata": {},
   "source": [
    "##### 2. Declare html in the code of the HTML file. "
   ]
  },
  {
   "cell_type": "code",
   "execution_count": null,
   "metadata": {
    "vscode": {
     "languageId": "html"
    }
   },
   "outputs": [],
   "source": [
    "%%HTML\n",
    "<!DOCTYPE html> <!-- It will declare Html to uses the lastest version. by defualt it applied automatacally -->\n",
    "<!-- At most, you only need the html tags. -->\n",
    "<html>\n",
    "\n",
    "</html>"
   ]
  },
  {
   "attachments": {},
   "cell_type": "markdown",
   "metadata": {},
   "source": [
    "##### 3. Test the file\n",
    "\n",
    "Double click the file and it will open up a browser with a empty page.\n",
    "\n",
    "Type anything in the html tags and save the code. After the browser is reloaded, the text will appear on the page."
   ]
  },
  {
   "attachments": {},
   "cell_type": "markdown",
   "metadata": {},
   "source": [
    "[Head tag Tutorial](./Header.ipynb)"
   ]
  }
 ],
 "metadata": {
  "kernelspec": {
   "display_name": "Python 3",
   "language": "python",
   "name": "python3"
  },
  "language_info": {
   "codemirror_mode": {
    "name": "ipython",
    "version": 3
   },
   "file_extension": ".py",
   "mimetype": "text/x-python",
   "name": "python",
   "nbconvert_exporter": "python",
   "pygments_lexer": "ipython3",
   "version": "3.8.5"
  },
  "orig_nbformat": 4,
  "vscode": {
   "interpreter": {
    "hash": "6d1e45cadc3597bb8b6600530fbdf8c3eefe919a24ef54d9d32b318795b772e0"
   }
  }
 },
 "nbformat": 4,
 "nbformat_minor": 2
}
