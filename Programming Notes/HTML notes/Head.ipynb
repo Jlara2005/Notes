{
 "cells": [
  {
   "attachments": {},
   "cell_type": "markdown",
   "metadata": {},
   "source": [
    "# welcome\n",
    "\n",
    "This tutorial will teach you about head tag."
   ]
  },
  {
   "attachments": {},
   "cell_type": "markdown",
   "metadata": {},
   "source": [
    "# great uses\n",
    "\n",
    "- It hold metadata of the website.\n",
    "- it is a great way to import javascript or css files stylesheet\n",
    "- It can change settings of the HTML page."
   ]
  }
 ],
 "metadata": {
  "kernelspec": {
   "display_name": "Python 3",
   "language": "python",
   "name": "python3"
  },
  "language_info": {
   "name": "python",
   "version": "3.8.5"
  },
  "orig_nbformat": 4
 },
 "nbformat": 4,
 "nbformat_minor": 2
}
