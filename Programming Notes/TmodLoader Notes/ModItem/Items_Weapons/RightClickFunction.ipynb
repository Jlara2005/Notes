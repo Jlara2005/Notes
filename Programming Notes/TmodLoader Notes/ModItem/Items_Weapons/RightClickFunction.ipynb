{
 "cells": [
  {
   "cell_type": "markdown",
   "metadata": {},
   "source": [
    "# welcome\n",
    "\n",
    "This is a tutorial on how to do Right Click function to the items weapons"
   ]
  },
  {
   "cell_type": "markdown",
   "metadata": {},
   "source": [
    "# great uses\n",
    "\n",
    "It can make a weapon have a second function or attack.\n"
   ]
  },
  {
   "cell_type": "markdown",
   "metadata": {},
   "source": [
    "# First Step \n",
    "### You need to tell the program that the item can be right click"
   ]
  },
  {
   "cell_type": "raw",
   "metadata": {},
   "source": [
    "//C#\n",
    "public override bool AltFunctionUse(Player player) {\n",
    "    return true;  //this will just tell the item that right click is allow. False means no right click.\n",
    "}"
   ]
  },
  {
   "cell_type": "markdown",
   "metadata": {},
   "source": [
    "# second step\n",
    "### after right click is now usable.\n",
    "##### it will use player.altFunctionUse to determined right click"
   ]
  },
  {
   "cell_type": "raw",
   "metadata": {},
   "source": [
    "//C#\n",
    "\n",
    "public override bool CanUseItem(Player player){\n",
    "if (player.altFunctionUse == 2){\n",
    "    // any code in here will run when the user right click.\n",
    "} else {\n",
    "// any code in here will run when the user left click\n",
    "}\n",
    "return base.CanUseItem(player);\n",
    "}"
   ]
  },
  {
   "cell_type": "markdown",
   "metadata": {},
   "source": [
    "# Summary\n",
    "\n",
    "1. Right click first have to be active in the code by using public override bool AltFunctionUse(Player player){Return true}\n",
    "\n",
    "2. CanUseItem starts up everytime the user uses a item. it can be replace using Shoot function.\n",
    "\n",
    "3. player.altFunctionUse = 2 means that the user have right click. it will not work if AltFunctionUse is not used.\n",
    "\n"
   ]
  }
 ],
 "metadata": {
  "kernelspec": {
   "display_name": "Python 3.9.1 64-bit",
   "language": "python",
   "name": "python3"
  },
  "language_info": {
   "name": "python",
   "version": "3.8.5"
  },
  "orig_nbformat": 4,
  "vscode": {
   "interpreter": {
    "hash": "11938c6bc6919ae2720b4d5011047913343b08a43b18698fd82dedb0d4417594"
   }
  }
 },
 "nbformat": 4,
 "nbformat_minor": 2
}
