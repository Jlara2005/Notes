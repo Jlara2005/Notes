{
 "cells": [
  {
   "attachments": {},
   "cell_type": "markdown",
   "metadata": {},
   "source": [
    "# welcome\n",
    "\n",
    "This is a tutorial on call in functions or code when the weapon hit a enemy npc."
   ]
  },
  {
   "attachments": {},
   "cell_type": "markdown",
   "metadata": {},
   "source": [
    "# great uses\n",
    "\n",
    "You can add buffs, special animation, getting extra damage, and many more functions all when the NPC get hit.\n"
   ]
  },
  {
   "attachments": {},
   "cell_type": "markdown",
   "metadata": {},
   "source": [
    "# Set Up\n",
    "### You need to set up OnHitNPC function to call.\n",
    "\n",
    "We going to use the make the target lit on fire."
   ]
  },
  {
   "cell_type": "raw",
   "metadata": {},
   "source": [
    "//C#\n",
    "public override void OnHitNPC(Player player, NPC target, int damage, float knockback, bool crit) {\n",
    "\n",
    "    /* the item can be edit in here and the NPC that got hit also can be use in here. */\n",
    "\n",
    "    target.AddBuff(BuffID.OnFire, 60); // the target which the NPC that got hit now got light on fire\n",
    "\n",
    "} // it called everytime the weapon hit the NPC. there are"
   ]
  },
  {
   "attachments": {},
   "cell_type": "markdown",
   "metadata": {},
   "source": [
    "# Examples\n",
    "### It will be a bunch of neat tricks and examples that can be use \n"
   ]
  },
  {
   "cell_type": "raw",
   "metadata": {},
   "source": [
    "//C#\n",
    "public override void OnHitNPC(Player player, NPC target, int damage, float knockback, bool crit) {\n",
    "\n",
    "    if (!target.active) { \n",
    "        // any code in here only happens if the target is dead.\n",
    "    }\n",
    "\n",
    "    target.AddBuff(BuffID.OnFire, 60); // the target which the NPC that got hit now got light on fire\n",
    "\n"
   ]
  },
  {
   "attachments": {},
   "cell_type": "markdown",
   "metadata": {},
   "source": [
    "# Summary\n",
    "\n",
    "1. This a void function so it needs no returns.\n",
    "\n",
    "2. any code will happen in the code when the player hit the NPC.\n",
    "\n",
    "3. Some NPC might be left out for example. town NPC\n",
    "\n"
   ]
  }
 ],
 "metadata": {
  "kernelspec": {
   "display_name": "Python 3.9.1 64-bit",
   "language": "python",
   "name": "python3"
  },
  "language_info": {
   "name": "python",
   "version": "3.9.1"
  },
  "orig_nbformat": 4,
  "vscode": {
   "interpreter": {
    "hash": "11938c6bc6919ae2720b4d5011047913343b08a43b18698fd82dedb0d4417594"
   }
  }
 },
 "nbformat": 4,
 "nbformat_minor": 2
}
